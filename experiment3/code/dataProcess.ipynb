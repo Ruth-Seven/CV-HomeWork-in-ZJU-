{
 "cells": [
  {
   "cell_type": "code",
   "execution_count": 1,
   "metadata": {},
   "outputs": [],
   "source": [
    "from pathlib import Path"
   ]
  },
  {
   "cell_type": "code",
   "execution_count": 2,
   "metadata": {},
   "outputs": [],
   "source": [
    "import torch\n",
    "import PIL\n",
    "from PIL import Image\n",
    "import matplotlib.pyplot as plt\n",
    "import cv2\n",
    "import numpy as np"
   ]
  },
  {
   "cell_type": "code",
   "execution_count": 3,
   "metadata": {},
   "outputs": [
    {
     "name": "stdout",
     "output_type": "stream",
     "text": [
      "True\n"
     ]
    }
   ],
   "source": [
    "bg_path = Path(\"../data/background\")\n",
    "print(bg_path.exists())\n",
    "pics_path = []\n",
    "for  pic  in bg_path.iterdir():\n",
    "    pics_path.append(pic)\n",
    "# pics_path"
   ]
  },
  {
   "cell_type": "code",
   "execution_count": 4,
   "metadata": {},
   "outputs": [],
   "source": [
    "# for path in pics_path:\n",
    "#     img = cv2.imread(str(path), cv2.IMREAD_COLOR)\n",
    "#     cv2.imshow(path.name, img )\n",
    "#     cv2.waitKey(0)"
   ]
  },
  {
   "cell_type": "markdown",
   "metadata": {},
   "source": [
    "## 载入背景图像"
   ]
  },
  {
   "cell_type": "code",
   "execution_count": 5,
   "metadata": {},
   "outputs": [],
   "source": [
    "# cv2载入数据不如PIL好\n",
    "imgs = [cv2.imread(str(path), cv2.IMREAD_COLOR) for path in pics_path]"
   ]
  },
  {
   "cell_type": "markdown",
   "metadata": {},
   "source": [
    "## 获取原始数据"
   ]
  },
  {
   "cell_type": "code",
   "execution_count": 6,
   "metadata": {},
   "outputs": [],
   "source": [
    "import torchvision"
   ]
  },
  {
   "cell_type": "code",
   "execution_count": 7,
   "metadata": {},
   "outputs": [
    {
     "data": {
      "text/plain": [
       "'..\\\\data'"
      ]
     },
     "execution_count": 7,
     "metadata": {},
     "output_type": "execute_result"
    }
   ],
   "source": [
    "str(bg_path.parent)"
   ]
  },
  {
   "cell_type": "code",
   "execution_count": 8,
   "metadata": {},
   "outputs": [],
   "source": [
    "transform  = None\n",
    "mnist_train_dataset = torchvision.datasets.MNIST(str(bg_path.parent), download=True, train=True,transform=transform)\n",
    "mnist_test_dataset = torchvision.datasets.MNIST(str(bg_path.parent), download=True, train=False,transform=transform)"
   ]
  },
  {
   "cell_type": "code",
   "execution_count": 9,
   "metadata": {},
   "outputs": [],
   "source": [
    " img = mnist_train_dataset[0][0]"
   ]
  },
  {
   "cell_type": "code",
   "execution_count": 10,
   "metadata": {},
   "outputs": [],
   "source": [
    "img.show()\n"
   ]
  },
  {
   "cell_type": "code",
   "execution_count": 11,
   "metadata": {},
   "outputs": [],
   "source": [
    "?img"
   ]
  },
  {
   "cell_type": "code",
   "execution_count": 12,
   "metadata": {},
   "outputs": [
    {
     "data": {
      "image/png": "[encoded data removed]",
      "text/plain": [
       "<PIL.Image.Image image mode=L size=28x28 at 0x1ABF767E508>"
      ]
     },
     "execution_count": 12,
     "metadata": {},
     "output_type": "execute_result"
    }
   ],
   "source": [
    "img"
   ]
  },
  {
   "cell_type": "markdown",
   "metadata": {},
   "source": [
    "## 使用transformer更变dataset原数据"
   ]
  },
  {
   "cell_type": "code",
   "execution_count": 13,
   "metadata": {},
   "outputs": [
    {
     "ename": "TypeError",
     "evalue": "'MNIST' object does not support item assignment",
     "output_type": "error",
     "traceback": [
      "\u001b[1;31m---------------------------------------------------------------------------\u001b[0m",
      "\u001b[1;31mTypeError\u001b[0m                                 Traceback (most recent call last)",
      "\u001b[1;32m<ipython-input-13-0330ef3a6469>\u001b[0m in \u001b[0;36m<module>\u001b[1;34m\u001b[0m\n\u001b[1;32m----> 1\u001b[1;33m \u001b[0mmnist_train_dataset\u001b[0m\u001b[1;33m[\u001b[0m\u001b[1;36m0\u001b[0m\u001b[1;33m]\u001b[0m \u001b[1;33m=\u001b[0m\u001b[1;34m' '\u001b[0m\u001b[1;33m\u001b[0m\u001b[1;33m\u001b[0m\u001b[0m\n\u001b[0m",
      "\u001b[1;31mTypeError\u001b[0m: 'MNIST' object does not support item assignment"
     ]
    }
   ],
   "source": [
    "mnist_train_dataset[0] =' '"
   ]
  },
  {
   "cell_type": "code",
   "execution_count": 14,
   "metadata": {},
   "outputs": [],
   "source": [
    "## 必须使用transfrom "
   ]
  },
  {
   "cell_type": "code",
   "execution_count": 258,
   "metadata": {},
   "outputs": [],
   "source": [
    "from torchvision import transforms \n",
    "from numpy import random\n",
    "from torchvision import transforms\n",
    "from numpy import random\n",
    "from PIL import Image\n",
    "import numpy as np\n",
    "class AddBg(object):\n",
    "    \n",
    "    def __init__(self, config, weight, height):\n",
    "#         \"../data/background\"\n",
    "        bg_path = config.background_path\n",
    "#         print(bg_path.exists())\n",
    "        pics_path = []\n",
    "        for  pic  in bg_path.iterdir():\n",
    "            pics_path.append(pic)\n",
    "        # pics_path\n",
    "        ## 载入PIL image 并转化为RBG（R,G,B,3）图像\n",
    "        imgs = [Image.open(str(path)).convert('RGB') for path in pics_path]\n",
    "        self.imgs = [img for img in imgs if img.size[0] > weight and img.size[1] > height]\n",
    "        self.size = len(imgs)\n",
    "        print(self.size)\n",
    "        self.weight = weight\n",
    "        self.height = height\n",
    "    \n",
    "    def __call__(self, pic):\n",
    "        \"\"\"\n",
    "        argumenmt: \n",
    "        @pic: Image instance(w,h)\n",
    "        \n",
    "        @return: new Image instance(w,h,3)\n",
    "        \n",
    "        The size of pic should be (H, W)\n",
    "  n      The background picture was place in the class config.background_path.\n",
    "        Well, Let's begin!\n",
    "        Ps. You should add a pipeline to solve the question that convert Image to tensor.\n",
    "        \"\"\"\n",
    "        pic.convert('RGB')\n",
    "        \n",
    "        bg_idx = np.random.randint(0, self.size)\n",
    "#         self.imgs[bg_idx].show()\n",
    "        bg = self.getRectImage(self.imgs[bg_idx], self.weight, self.height)\n",
    "        return self.merge(self.gray2rgb(pic), bg)\n",
    "    \n",
    "        \n",
    "    def getRectImage(self,img, weight, height):\n",
    "        # watch out the differenct between PIL.image.shape and np.array.shape\n",
    "        W, H = img.size # shape: (W, W)\n",
    "        arr = np.array(img) # shape: (H, W) \n",
    "\n",
    "        rand_w = random.randint(0, W - weight - 1)\n",
    "        rand_h = random.randint(0, H - height - 1)    \n",
    "        narr = arr[rand_h:rand_h+height, rand_w:rand_w+weight :]\n",
    "#         print(arr.shape)\n",
    "#         print(W, \" \", H)\n",
    "#         print(rand_w, ' ', rand_h, ' ', weight + rand_w)\n",
    "#         print(narr.shape)\n",
    "#         print(arr)\n",
    "        return Image.fromarray(narr)\n",
    "\n",
    "    # img and bg should have the same size\n",
    "#         from functools import reduce\n",
    "    def merge(self,img, bg):\n",
    "        arri = np.array(img)\n",
    "        arrb = np.array(bg)\n",
    "        # PIL shepe is just the size of pexel, not number.\n",
    "        print(arri.shape)\n",
    "        print(arrb.shape)\n",
    "        print(\"@@@@@@@@@\")\n",
    "        \n",
    "    #     shape = arri.shape\n",
    "#         print(shape)\n",
    "    #     sum_pixel = reduce(lambda x, y: x * y, shape, 1)\n",
    "    #     arri = arri.resize(sum_pixel)\n",
    "    #     arrb = arrb.resize(sum_pixel)\n",
    "    #     arri.resize(shape)\n",
    "\n",
    "        return Image.fromarray(np.where(arri != 0, arri, arrb))\n",
    "    \n",
    "    def gray2rgb(self, img):\n",
    "        \"\"\"\n",
    "        argurment:\n",
    "        @img: PIL image instance:(weight, height, 1)\n",
    "        @return: PIL imagePIL image instance:(weight, height, 3)\n",
    "        \"\"\"\n",
    "        \n",
    "        arr = np.array(img)\n",
    "        # add a new dim\n",
    "        newshape = list(arr.shape).append(3)\n",
    "#         arr[:, np.newaxis]\n",
    "        arr2 = np.copy(arr)\n",
    "        arr3 = np.copy(arr)\n",
    "        newarr = np.dstack((arr,arr2,arr3))\n",
    "        print(newarr.shape)\n",
    "        return Image.fromarray(newarr)"
   ]
  },
  {
   "cell_type": "code",
   "execution_count": 259,
   "metadata": {},
   "outputs": [],
   "source": [
    "\n",
    "from config import Config"
   ]
  },
  {
   "cell_type": "code",
   "execution_count": 260,
   "metadata": {},
   "outputs": [
    {
     "name": "stdout",
     "output_type": "stream",
     "text": [
      "\n",
      "_____________________________________\n",
      "<class 'type'> confinging \n",
      "New using computation device cuda\n"
     ]
    }
   ],
   "source": [
    "config  = Config()\n",
    "config.background_path = Path(\"../data/background\")"
   ]
  },
  {
   "cell_type": "code",
   "execution_count": 261,
   "metadata": {},
   "outputs": [
    {
     "name": "stdout",
     "output_type": "stream",
     "text": [
      "29\n"
     ]
    }
   ],
   "source": [
    "c = AddBg(config, 28, 28)"
   ]
  },
  {
   "cell_type": "code",
   "execution_count": 262,
   "metadata": {},
   "outputs": [
    {
     "data": {
      "text/plain": [
       "(28, 28)"
      ]
     },
     "execution_count": 262,
     "metadata": {},
     "output_type": "execute_result"
    }
   ],
   "source": [
    "img.size"
   ]
  },
  {
   "cell_type": "code",
   "execution_count": 263,
   "metadata": {},
   "outputs": [],
   "source": [
    "img  = mnist_train_dataset[0][0]"
   ]
  },
  {
   "cell_type": "code",
   "execution_count": 264,
   "metadata": {},
   "outputs": [
    {
     "data": {
      "text/plain": [
       "4"
      ]
     },
     "execution_count": 264,
     "metadata": {},
     "output_type": "execute_result"
    }
   ],
   "source": [
    "random.randint(0,5)"
   ]
  },
  {
   "cell_type": "code",
   "execution_count": 265,
   "metadata": {},
   "outputs": [
    {
     "name": "stdout",
     "output_type": "stream",
     "text": [
      "(28, 28, 3)\n",
      "(28, 28, 3)\n",
      "(28, 28, 3)\n",
      "@@@@@@@@@\n"
     ]
    }
   ],
   "source": [
    "cc = c(img)"
   ]
  },
  {
   "cell_type": "code",
   "execution_count": 266,
   "metadata": {},
   "outputs": [
    {
     "data": {
      "image/png": "[encoded data removed]",
      "text/plain": [
       "<PIL.Image.Image image mode=RGB size=28x28 at 0x1AB8005D648>"
      ]
     },
     "execution_count": 266,
     "metadata": {},
     "output_type": "execute_result"
    }
   ],
   "source": [
    "cc"
   ]
  },
  {
   "cell_type": "markdown",
   "metadata": {},
   "source": [
    "###  Image转化为三通道"
   ]
  },
  {
   "cell_type": "code",
   "execution_count": null,
   "metadata": {},
   "outputs": [],
   "source": [
    "RGB_img = img.convert('RGB')"
   ]
  },
  {
   "cell_type": "code",
   "execution_count": null,
   "metadata": {},
   "outputs": [],
   "source": [
    "np.array(RGB_img).shape"
   ]
  },
  {
   "cell_type": "code",
   "execution_count": null,
   "metadata": {},
   "outputs": [],
   "source": [
    "# np.array(RGB_img)[:,:,1]"
   ]
  },
  {
   "cell_type": "markdown",
   "metadata": {},
   "source": [
    "### 截取28 * 28 图像"
   ]
  },
  {
   "cell_type": "code",
   "execution_count": 84,
   "metadata": {},
   "outputs": [],
   "source": [
    "pic1_path = pics_path[0]"
   ]
  },
  {
   "cell_type": "code",
   "execution_count": 93,
   "metadata": {},
   "outputs": [],
   "source": [
    "bg1 = Image.open(str(pic1_path))"
   ]
  },
  {
   "cell_type": "code",
   "execution_count": 94,
   "metadata": {},
   "outputs": [],
   "source": [
    "bg1.show()"
   ]
  },
  {
   "cell_type": "code",
   "execution_count": 92,
   "metadata": {},
   "outputs": [
    {
     "data": {
      "text/plain": [
       "(475, 526)"
      ]
     },
     "execution_count": 92,
     "metadata": {},
     "output_type": "execute_result"
    }
   ],
   "source": [
    "# w,h\n",
    "bg1.size"
   ]
  },
  {
   "cell_type": "code",
   "execution_count": 91,
   "metadata": {},
   "outputs": [],
   "source": [
    "?bg1"
   ]
  },
  {
   "cell_type": "code",
   "execution_count": null,
   "metadata": {},
   "outputs": [],
   "source": [
    "bg1.get"
   ]
  },
  {
   "cell_type": "code",
   "execution_count": null,
   "metadata": {},
   "outputs": [],
   "source": [
    "\n",
    "\n"
   ]
  },
  {
   "cell_type": "code",
   "execution_count": 110,
   "metadata": {},
   "outputs": [],
   "source": [
    "from numpy import random\n",
    " \n",
    "# get a rect from a image, which shape is (weight, height , 3)\n",
    "\n",
    "def getRectImage(img, weight, height):\n",
    "    \n",
    "    W, H = img.size\n",
    "    arr = np.array(img)\n",
    "    \n",
    "    rand_w = random.randint(0, W - weight)\n",
    "    rand_h = random.randint(0, H - height)    \n",
    "    arr = arr[rand_w:rand_w+weight, rand_h:rand_h+height, :]\n",
    "    return Image.fromarray(arr)\n",
    "\n",
    "\n"
   ]
  },
  {
   "cell_type": "code",
   "execution_count": 111,
   "metadata": {},
   "outputs": [],
   "source": [
    "bg28 = getRectImage(bg1, 28, 28)"
   ]
  },
  {
   "cell_type": "code",
   "execution_count": 112,
   "metadata": {},
   "outputs": [
    {
     "data": {
      "image/png": "[encoded data removed]",
      "text/plain": [
       "<PIL.Image.Image image mode=RGBA size=28x28 at 0x17AD8A07708>"
      ]
     },
     "execution_count": 112,
     "metadata": {},
     "output_type": "execute_result"
    }
   ],
   "source": [
    "bg28"
   ]
  },
  {
   "cell_type": "code",
   "execution_count": 113,
   "metadata": {},
   "outputs": [
    {
     "data": {
      "text/plain": [
       "(28, 28)"
      ]
     },
     "execution_count": 113,
     "metadata": {},
     "output_type": "execute_result"
    }
   ],
   "source": [
    "bg28.size"
   ]
  },
  {
   "cell_type": "code",
   "execution_count": null,
   "metadata": {},
   "outputs": [],
   "source": []
  },
  {
   "cell_type": "code",
   "execution_count": 140,
   "metadata": {},
   "outputs": [],
   "source": [
    "testnp = np.array(img)"
   ]
  },
  {
   "cell_type": "code",
   "execution_count": 141,
   "metadata": {},
   "outputs": [],
   "source": [
    "testnp.resize(28 *28)"
   ]
  },
  {
   "cell_type": "code",
   "execution_count": 143,
   "metadata": {},
   "outputs": [
    {
     "data": {
      "text/plain": [
       "(28, 28)"
      ]
     },
     "execution_count": 143,
     "metadata": {},
     "output_type": "execute_result"
    }
   ],
   "source": [
    "img.size"
   ]
  },
  {
   "cell_type": "code",
   "execution_count": 147,
   "metadata": {},
   "outputs": [
    {
     "data": {
      "text/plain": [
       "(array([152, 153, 154, 155, 156, 157, 158, 159, 160, 161, 162, 163, 176,\n",
       "        177, 178, 179, 180, 181, 182, 183, 184, 185, 186, 187, 188, 189,\n",
       "        190, 191, 203, 204, 205, 206, 207, 208, 209, 210, 211, 212, 213,\n",
       "        214, 215, 216, 217, 218, 231, 232, 233, 234, 235, 236, 237, 238,\n",
       "        239, 240, 241, 260, 261, 262, 263, 264, 265, 266, 268, 269, 289,\n",
       "        290, 291, 292, 293, 319, 320, 321, 322, 347, 348, 349, 350, 376,\n",
       "        377, 378, 379, 380, 381, 405, 406, 407, 408, 409, 410, 434, 435,\n",
       "        436, 437, 438, 439, 463, 464, 465, 466, 467, 493, 494, 495, 496,\n",
       "        518, 519, 520, 521, 522, 523, 524, 544, 545, 546, 547, 548, 549,\n",
       "        550, 551, 570, 571, 572, 573, 574, 575, 576, 577, 578, 596, 597,\n",
       "        598, 599, 600, 601, 602, 603, 604, 605, 622, 623, 624, 625, 626,\n",
       "        627, 628, 629, 630, 631, 648, 649, 650, 651, 652, 653, 654, 655,\n",
       "        656, 657, 676, 677, 678, 679, 680, 681, 682, 683], dtype=int64),)"
      ]
     },
     "execution_count": 147,
     "metadata": {},
     "output_type": "execute_result"
    }
   ],
   "source": [
    "np.where(testnp>0)"
   ]
  },
  {
   "cell_type": "markdown",
   "metadata": {},
   "source": [
    "### 图像重叠 from numpy\\"
   ]
  },
  {
   "cell_type": "code",
   "execution_count": 115,
   "metadata": {},
   "outputs": [
    {
     "data": {
      "image/png": "[encoded data removed]",
      "text/plain": [
       "<PIL.Image.Image image mode=L size=28x28 at 0x17ACCEA6908>"
      ]
     },
     "execution_count": 115,
     "metadata": {},
     "output_type": "execute_result"
    }
   ],
   "source": [
    "img"
   ]
  },
  {
   "cell_type": "code",
   "execution_count": 153,
   "metadata": {},
   "outputs": [
    {
     "data": {
      "text/plain": [
       "(28, 28)"
      ]
     },
     "execution_count": 153,
     "metadata": {},
     "output_type": "execute_result"
    }
   ],
   "source": [
    "img.size"
   ]
  },
  {
   "cell_type": "code",
   "execution_count": 135,
   "metadata": {},
   "outputs": [
    {
     "data": {
      "text/plain": [
       "array([ 22,  21,  21, 255,  18,  17,  17, 255,  30,  35,  27, 255,  37,\n",
       "        51,  38, 255,  28,  31,  28, 255,  23,  22,  23, 255,  28,  30,\n",
       "        28, 255,  27,  35,  30, 255,  31,  39,  32, 255,  35,  48,  42,\n",
       "       255,  46,  62,  57, 255,  42,  62,  52, 255,  47,  62,  50, 255,\n",
       "        68,  87,  72, 255,  83,  99,  84, 255,  79,  96,  78, 255,  70,\n",
       "        92,  75, 255,  71,  96,  75, 255,  61,  84,  69, 255,  49,  71,\n",
       "        60, 255,  55,  76,  63, 255,  73,  98,  75, 255,  85, 106,  80,\n",
       "       255,  88, 103,  74, 255,  82,  96,  65, 255,  70,  83,  59, 255,\n",
       "        66,  76,  56, 255,  71,  82,  58, 255,  23,  27,  24, 255,  34,\n",
       "        48,  34, 255,  49,  81,  50, 255,  52,  83,  48, 255,  38,  57,\n",
       "        40, 255,  30,  32,  29, 255,  30,  33,  29, 255,  34,  43,  36,\n",
       "       255,  42,  54,  45, 255,  35,  52,  45, 255,  45,  70,  62, 255,\n",
       "        64,  88,  77, 255,  49,  66,  57, 255,  38,  51,  45, 255,  56,\n",
       "        72,  59, 255,  80,  98,  78, 255,  76,  94,  74, 255,  68,  88,\n",
       "        72, 255,  68,  94,  80, 255,  63,  93,  79, 255,  48,  75,  58,\n",
       "       255,  51,  76,  60, 255,  77, 102,  82, 255, 100, 117,  90, 255,\n",
       "       108, 114,  88, 255,  87, 102,  82, 255,  66,  84,  68, 255,  63,\n",
       "        79,  61, 255,  34,  57,  36, 255,  50,  89,  53, 255,  56, 106,\n",
       "        54, 255,  53, 101,  49, 255,  48,  77,  48, 255,  37,  46,  37,\n",
       "       255,  35,  49,  36, 255,  43,  61,  46, 255,  59,  84,  65, 255,\n",
       "        53,  84,  69, 255,  42,  72,  60, 255,  59,  90,  78, 255,  69,\n",
       "       102,  88, 255,  53,  78,  65, 255,  44,  70,  54, 255,  68,  94,\n",
       "        70, 255,  92, 110,  86, 255,  86, 105,  81, 255,  69,  93,  75,\n",
       "       255,  71, 100,  85, 255,  71, 103,  85, 255,  61,  84,  68, 255,\n",
       "        53,  72,  60, 255,  74,  91,  72, 255, 101, 112,  88, 255, 106,\n",
       "       115,  91, 255,  90, 105,  82, 255,  72,  93,  70, 255,  42,  90,\n",
       "        47, 255,  42,  96,  46, 255,  48, 103,  46, 255,  46, 103,  49,\n",
       "       255,  43,  82,  47, 255,  44,  68,  45, 255,  42,  76,  46, 255,\n",
       "        43,  81,  51, 255,  50,  94,  62, 255,  59, 102,  77, 255,  59,\n",
       "        91,  72, 255,  48,  75,  66, 255,  53,  87,  72, 255,  59,  94,\n",
       "        71, 255,  49,  88,  62, 255,  51,  87,  58, 255,  64,  89,  64,\n",
       "       255,  80, 106,  76, 255,  88, 109,  84, 255,  69,  93,  73, 255,\n",
       "        62,  92,  71, 255,  71,  93,  74, 255,  55,  67,  56, 255,  47,\n",
       "        61,  48, 255,  72,  87,  67, 255,  90,  95,  70, 255,  94, 103,\n",
       "        76, 255,  71,  88,  64, 255,  40, 100,  48, 255,  37,  94,  44,\n",
       "       255,  44,  95,  44, 255,  45,  98,  50, 255,  36,  89,  49, 255,\n",
       "        47,  90,  51, 255,  51,  97,  50, 255,  40,  94,  49, 255,  42,\n",
       "        97,  58, 255,  50,  96,  69, 255,  69, 107,  85, 255,  66,  94,\n",
       "        76, 255,  45,  78,  56, 255,  47,  84,  56, 255,  53,  97,  62,\n",
       "       255,  52,  93,  61, 255,  42,  72,  51, 255,  47,  78,  54, 255,\n",
       "        67,  96,  68, 255,  79, 104,  77, 255,  68,  89,  67, 255,  55,\n",
       "        83,  63, 255,  65,  83,  65, 255,  69,  77,  59, 255,  56,  69,\n",
       "        52, 255,  55,  66,  53, 255,  64,  74,  58, 255,  63,  74,  55,\n",
       "       255,  43,  92,  49, 255,  41,  93,  41, 255,  39,  92,  42, 255,\n",
       "        39,  97,  47, 255,  38,  91,  51, 255,  41,  90,  47, 255,  57,\n",
       "       104,  53, 255,  53, 102,  51, 255,  50, 102,  53, 255,  43,  95,\n",
       "        59, 255,  46,  94,  65, 255,  60, 102,  71, 255,  63, 101,  66,\n",
       "       255,  62, 101,  59, 255,  73, 113,  65, 255,  65, 105,  63, 255,\n",
       "        47,  82,  50, 255,  42,  78,  49, 255,  49,  87,  53, 255,  70,\n",
       "       101,  66, 255,  78, 105,  72, 255,  62,  95,  64, 255,  52,  74,\n",
       "        54, 255,  60,  78,  56, 255,  67,  91,  70, 255,  54,  73,  60,\n",
       "       255,  41,  53,  44, 255,  39,  47,  40, 255,  38,  85,  46, 255,\n",
       "        41,  92,  43, 255,  39,  91,  45, 255,  50, 100,  53, 255,  49,\n",
       "        98,  57, 255,  43,  92,  46, 255,  54, 105,  50, 255,  43,  95,\n",
       "        44, 255,  51, 104,  50, 255,  51, 104,  56, 255,  36,  91,  49,\n",
       "       255,  41,  87,  56, 255,  59, 100,  61, 255,  79, 120,  65, 255,\n",
       "        95, 131,  71, 255,  89, 125,  61, 255,  80, 115,  55, 255,  70,\n",
       "       112,  59, 255,  63, 107,  56, 255,  56,  97,  55, 255,  58,  95,\n",
       "        58, 255,  57,  99,  60, 255,  50,  85,  59, 255,  43,  64,  51,\n",
       "       255,  52,  79,  65, 255,  50,  83,  68, 255,  42,  62,  52, 255,\n",
       "        32,  33,  29, 255], dtype=uint8)"
      ]
     },
     "execution_count": 135,
     "metadata": {},
     "output_type": "execute_result"
    }
   ],
   "source": [
    "testnp"
   ]
  },
  {
   "cell_type": "code",
   "execution_count": 154,
   "metadata": {},
   "outputs": [
    {
     "data": {
      "image/png": "[encoded data removed]",
      "text/plain": [
       "<PIL.Image.Image image mode=RGBA size=28x28 at 0x17AD8A07708>"
      ]
     },
     "execution_count": 154,
     "metadata": {},
     "output_type": "execute_result"
    }
   ],
   "source": [
    "bg28"
   ]
  },
  {
   "cell_type": "code",
   "execution_count": 156,
   "metadata": {},
   "outputs": [],
   "source": [
    "?bg28"
   ]
  },
  {
   "cell_type": "code",
   "execution_count": 155,
   "metadata": {},
   "outputs": [
    {
     "data": {
      "text/plain": [
       "(28, 28)"
      ]
     },
     "execution_count": 155,
     "metadata": {},
     "output_type": "execute_result"
    }
   ],
   "source": [
    "bg28.size"
   ]
  },
  {
   "cell_type": "code",
   "execution_count": 163,
   "metadata": {},
   "outputs": [],
   "source": [
    "\n",
    "\n",
    "bg283= bg28.convert(\"RGB\")\n",
    "img3= img.convert(\"RGB\")"
   ]
  },
  {
   "cell_type": "code",
   "execution_count": 171,
   "metadata": {},
   "outputs": [],
   "source": [
    "?bg283\n"
   ]
  },
  {
   "cell_type": "code",
   "execution_count": 170,
   "metadata": {},
   "outputs": [],
   "source": [
    "?img3"
   ]
  },
  {
   "cell_type": "code",
   "execution_count": 182,
   "metadata": {},
   "outputs": [],
   "source": [
    "# img and bg should have the same size\n",
    "from functools import reduce\n",
    "def merge(img, bg):\n",
    "    arri = np.array(img)\n",
    "    arrb = np.array(bg)\n",
    "#     shape = arri.shape\n",
    "#     print(shape)\n",
    "#     sum_pixel = reduce(lambda x, y: x * y, shape, 1)\n",
    "#     arri = arri.resize(sum_pixel)\n",
    "#     arrb = arrb.resize(sum_pixel)\n",
    "#     arri.resize(shape)\n",
    "    \n",
    "    return np.where(arri != 0, arri, arrb)    "
   ]
  },
  {
   "cell_type": "code",
   "execution_count": 183,
   "metadata": {},
   "outputs": [],
   "source": [
    "mergeimg = merge(img3, bg283)"
   ]
  },
  {
   "cell_type": "code",
   "execution_count": 184,
   "metadata": {},
   "outputs": [
    {
     "ename": "NameError",
     "evalue": "name 'mergeing' is not defined",
     "output_type": "error",
     "traceback": [
      "\u001b[1;31m---------------------------------------------------------------------------\u001b[0m",
      "\u001b[1;31mNameError\u001b[0m                                 Traceback (most recent call last)",
      "\u001b[1;32m<ipython-input-184-cc28bde3172c>\u001b[0m in \u001b[0;36m<module>\u001b[1;34m\u001b[0m\n\u001b[1;32m----> 1\u001b[1;33m \u001b[0mmergeing\u001b[0m\u001b[1;33m\u001b[0m\u001b[1;33m\u001b[0m\u001b[0m\n\u001b[0m",
      "\u001b[1;31mNameError\u001b[0m: name 'mergeing' is not defined"
     ]
    }
   ],
   "source": [
    "mergeing"
   ]
  },
  {
   "cell_type": "code",
   "execution_count": null,
   "metadata": {},
   "outputs": [],
   "source": []
  },
  {
   "cell_type": "markdown",
   "metadata": {},
   "source": [
    "### numpy 与 Image"
   ]
  },
  {
   "cell_type": "code",
   "execution_count": 40,
   "metadata": {},
   "outputs": [],
   "source": [
    "n_img = np.array(img)"
   ]
  },
  {
   "cell_type": "code",
   "execution_count": 46,
   "metadata": {},
   "outputs": [],
   "source": [
    "#使用narray索引赋值\n",
    "n_img[n_img == 0] = 255\n"
   ]
  },
  {
   "cell_type": "code",
   "execution_count": 118,
   "metadata": {},
   "outputs": [
    {
     "data": {
      "text/plain": [
       "(28, 28)"
      ]
     },
     "execution_count": 118,
     "metadata": {},
     "output_type": "execute_result"
    }
   ],
   "source": [
    "n_img.shape"
   ]
  },
  {
   "cell_type": "code",
   "execution_count": 47,
   "metadata": {},
   "outputs": [
    {
     "data": {
      "text/plain": [
       "array([[255, 255, 255, 255, 255, 255, 255, 255, 255, 255, 255, 255, 255,\n",
       "        255, 255, 255, 255, 255, 255, 255, 255, 255, 255, 255, 255, 255,\n",
       "        255, 255],\n",
       "       [255, 255, 255, 255, 255, 255, 255, 255, 255, 255, 255, 255, 255,\n",
       "        255, 255, 255, 255, 255, 255, 255, 255, 255, 255, 255, 255, 255,\n",
       "        255, 255],\n",
       "       [255, 255, 255, 255, 255, 255, 255, 255, 255, 255, 255, 255, 255,\n",
       "        255, 255, 255, 255, 255, 255, 255, 255, 255, 255, 255, 255, 255,\n",
       "        255, 255],\n",
       "       [255, 255, 255, 255, 255, 255, 255, 255, 255, 255, 255, 255, 255,\n",
       "        255, 255, 255, 255, 255, 255, 255, 255, 255, 255, 255, 255, 255,\n",
       "        255, 255],\n",
       "       [255, 255, 255, 255, 255, 255, 255, 255, 255, 255, 255, 255, 255,\n",
       "        255, 255, 255, 255, 255, 255, 255, 255, 255, 255, 255, 255, 255,\n",
       "        255, 255],\n",
       "       [255, 255, 255, 255, 255, 255, 255, 255, 255, 255, 255, 255,   1,\n",
       "          1,   1,   1,   1,   1,   1,   1,   1,   1,   1,   1, 255, 255,\n",
       "        255, 255],\n",
       "       [255, 255, 255, 255, 255, 255, 255, 255,   1,   1,   1,   1,   1,\n",
       "          1,   1,   1,   1,   1,   1,   1,   1,   1,   1,   1, 255, 255,\n",
       "        255, 255],\n",
       "       [255, 255, 255, 255, 255, 255, 255,   1,   1,   1,   1,   1,   1,\n",
       "          1,   1,   1,   1,   1,   1,   1,   1,   1,   1, 255, 255, 255,\n",
       "        255, 255],\n",
       "       [255, 255, 255, 255, 255, 255, 255,   1,   1,   1,   1,   1,   1,\n",
       "          1,   1,   1,   1,   1, 255, 255, 255, 255, 255, 255, 255, 255,\n",
       "        255, 255],\n",
       "       [255, 255, 255, 255, 255, 255, 255, 255,   1,   1,   1,   1,   1,\n",
       "          1,   1, 255,   1,   1, 255, 255, 255, 255, 255, 255, 255, 255,\n",
       "        255, 255],\n",
       "       [255, 255, 255, 255, 255, 255, 255, 255, 255,   1,   1,   1,   1,\n",
       "          1, 255, 255, 255, 255, 255, 255, 255, 255, 255, 255, 255, 255,\n",
       "        255, 255],\n",
       "       [255, 255, 255, 255, 255, 255, 255, 255, 255, 255, 255,   1,   1,\n",
       "          1,   1, 255, 255, 255, 255, 255, 255, 255, 255, 255, 255, 255,\n",
       "        255, 255],\n",
       "       [255, 255, 255, 255, 255, 255, 255, 255, 255, 255, 255,   1,   1,\n",
       "          1,   1, 255, 255, 255, 255, 255, 255, 255, 255, 255, 255, 255,\n",
       "        255, 255],\n",
       "       [255, 255, 255, 255, 255, 255, 255, 255, 255, 255, 255, 255,   1,\n",
       "          1,   1,   1,   1,   1, 255, 255, 255, 255, 255, 255, 255, 255,\n",
       "        255, 255],\n",
       "       [255, 255, 255, 255, 255, 255, 255, 255, 255, 255, 255, 255, 255,\n",
       "          1,   1,   1,   1,   1,   1, 255, 255, 255, 255, 255, 255, 255,\n",
       "        255, 255],\n",
       "       [255, 255, 255, 255, 255, 255, 255, 255, 255, 255, 255, 255, 255,\n",
       "        255,   1,   1,   1,   1,   1,   1, 255, 255, 255, 255, 255, 255,\n",
       "        255, 255],\n",
       "       [255, 255, 255, 255, 255, 255, 255, 255, 255, 255, 255, 255, 255,\n",
       "        255, 255,   1,   1,   1,   1,   1, 255, 255, 255, 255, 255, 255,\n",
       "        255, 255],\n",
       "       [255, 255, 255, 255, 255, 255, 255, 255, 255, 255, 255, 255, 255,\n",
       "        255, 255, 255, 255,   1,   1,   1,   1, 255, 255, 255, 255, 255,\n",
       "        255, 255],\n",
       "       [255, 255, 255, 255, 255, 255, 255, 255, 255, 255, 255, 255, 255,\n",
       "        255,   1,   1,   1,   1,   1,   1,   1, 255, 255, 255, 255, 255,\n",
       "        255, 255],\n",
       "       [255, 255, 255, 255, 255, 255, 255, 255, 255, 255, 255, 255,   1,\n",
       "          1,   1,   1,   1,   1,   1,   1, 255, 255, 255, 255, 255, 255,\n",
       "        255, 255],\n",
       "       [255, 255, 255, 255, 255, 255, 255, 255, 255, 255,   1,   1,   1,\n",
       "          1,   1,   1,   1,   1,   1, 255, 255, 255, 255, 255, 255, 255,\n",
       "        255, 255],\n",
       "       [255, 255, 255, 255, 255, 255, 255, 255,   1,   1,   1,   1,   1,\n",
       "          1,   1,   1,   1,   1, 255, 255, 255, 255, 255, 255, 255, 255,\n",
       "        255, 255],\n",
       "       [255, 255, 255, 255, 255, 255,   1,   1,   1,   1,   1,   1,   1,\n",
       "          1,   1,   1, 255, 255, 255, 255, 255, 255, 255, 255, 255, 255,\n",
       "        255, 255],\n",
       "       [255, 255, 255, 255,   1,   1,   1,   1,   1,   1,   1,   1,   1,\n",
       "          1, 255, 255, 255, 255, 255, 255, 255, 255, 255, 255, 255, 255,\n",
       "        255, 255],\n",
       "       [255, 255, 255, 255,   1,   1,   1,   1,   1,   1,   1,   1, 255,\n",
       "        255, 255, 255, 255, 255, 255, 255, 255, 255, 255, 255, 255, 255,\n",
       "        255, 255],\n",
       "       [255, 255, 255, 255, 255, 255, 255, 255, 255, 255, 255, 255, 255,\n",
       "        255, 255, 255, 255, 255, 255, 255, 255, 255, 255, 255, 255, 255,\n",
       "        255, 255],\n",
       "       [255, 255, 255, 255, 255, 255, 255, 255, 255, 255, 255, 255, 255,\n",
       "        255, 255, 255, 255, 255, 255, 255, 255, 255, 255, 255, 255, 255,\n",
       "        255, 255],\n",
       "       [255, 255, 255, 255, 255, 255, 255, 255, 255, 255, 255, 255, 255,\n",
       "        255, 255, 255, 255, 255, 255, 255, 255, 255, 255, 255, 255, 255,\n",
       "        255, 255]], dtype=uint8)"
      ]
     },
     "execution_count": 47,
     "metadata": {},
     "output_type": "execute_result"
    }
   ],
   "source": [
    "n_img"
   ]
  },
  {
   "cell_type": "code",
   "execution_count": 60,
   "metadata": {},
   "outputs": [
    {
     "data": {
      "text/plain": [
       "(28, 28)"
      ]
     },
     "execution_count": 60,
     "metadata": {},
     "output_type": "execute_result"
    }
   ],
   "source": [
    "n_img.shape"
   ]
  },
  {
   "cell_type": "code",
   "execution_count": 59,
   "metadata": {},
   "outputs": [
    {
     "data": {
      "text/plain": [
       "<matplotlib.image.AxesImage at 0x17adab06fc8>"
      ]
     },
     "execution_count": 59,
     "metadata": {},
     "output_type": "execute_result"
    },
    {
     "data": {
      "image/png": "[encoded data removed]",
      "text/plain": [
       "<Figure size 432x288 with 1 Axes>"
      ]
     },
     "metadata": {
      "needs_background": "light"
     },
     "output_type": "display_data"
    }
   ],
   "source": [
    "plt.imshow(n_img)"
   ]
  },
  {
   "cell_type": "code",
   "execution_count": 87,
   "metadata": {},
   "outputs": [],
   "source": [
    "nnimg = Image.fromarray(n_img)"
   ]
  },
  {
   "cell_type": "code",
   "execution_count": null,
   "metadata": {},
   "outputs": [],
   "source": []
  },
  {
   "cell_type": "code",
   "execution_count": 88,
   "metadata": {},
   "outputs": [
    {
     "data": {
      "image/png": "[encoded data removed]",
      "text/plain": [
       "<PIL.Image.Image image mode=L size=28x28 at 0x17ADAB96848>"
      ]
     },
     "execution_count": 88,
     "metadata": {},
     "output_type": "execute_result"
    }
   ],
   "source": [
    "\n",
    "nnimg"
   ]
  },
  {
   "cell_type": "code",
   "execution_count": null,
   "metadata": {},
   "outputs": [],
   "source": []
  },
  {
   "cell_type": "code",
   "execution_count": null,
   "metadata": {},
   "outputs": [],
   "source": []
  },
  {
   "cell_type": "code",
   "execution_count": null,
   "metadata": {},
   "outputs": [],
   "source": []
  }
 ],
 "metadata": {
  "kernelspec": {
   "display_name": "Python 3",
   "language": "python",
   "name": "python3"
  },
  "language_info": {
   "codemirror_mode": {
    "name": "ipython",
    "version": 3
   },
   "file_extension": ".py",
   "mimetype": "text/x-python",
   "name": "python",
   "nbconvert_exporter": "python",
   "pygments_lexer": "ipython3",
   "version": "3.7.9"
  }
 },
 "nbformat": 4,
 "nbformat_minor": 4
}
