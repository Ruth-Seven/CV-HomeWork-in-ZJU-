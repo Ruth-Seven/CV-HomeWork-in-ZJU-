{
 "cells": [
  {
   "cell_type": "code",
   "execution_count": 2,
   "metadata": {},
   "outputs": [],
   "source": [
    "import os\n",
    "os.environ[\"CUDA_VISIBLE_DEVICES\"] = \"0\"  # 使用第1个GPU\n",
    "os.environ[\"KMP_DUPLICATE_LIB_OK\"] = 'True'  # 允许副本存在\n",
    "\n",
    "\n",
    "from  matplotlib import pyplot as plt"
   ]
  },
  {
   "cell_type": "markdown",
   "metadata": {},
   "source": [
    "## 1.load image data set"
   ]
  },
  {
   "cell_type": "code",
   "execution_count": 3,
   "metadata": {},
   "outputs": [
    {
     "data": {
      "text/plain": [
       "'D:\\\\个人文件\\\\重要文件\\\\#2研究生在校\\\\学习内容\\\\计算机视觉导论\\\\作业\\\\experiment1\\\\code'"
      ]
     },
     "execution_count": 3,
     "metadata": {},
     "output_type": "execute_result"
    }
   ],
   "source": [
    "%pwd"
   ]
  },
  {
   "cell_type": "code",
   "execution_count": 4,
   "metadata": {
    "scrolled": true
   },
   "outputs": [
    {
     "data": {
      "text/plain": [
       "[WindowsPath('../data/bark/img1.ppm'),\n",
       " WindowsPath('../data/bark/img2.ppm'),\n",
       " WindowsPath('../data/bark/img3.ppm'),\n",
       " WindowsPath('../data/bark/img4.ppm'),\n",
       " WindowsPath('../data/bark/img5.ppm'),\n",
       " WindowsPath('../data/bark/img6.ppm'),\n",
       " WindowsPath('../data/bikes/img1.ppm'),\n",
       " WindowsPath('../data/bikes/img2.ppm'),\n",
       " WindowsPath('../data/bikes/img3.ppm'),\n",
       " WindowsPath('../data/bikes/img4.ppm'),\n",
       " WindowsPath('../data/bikes/img5.ppm'),\n",
       " WindowsPath('../data/bikes/img6.ppm'),\n",
       " WindowsPath('../data/graf/img1.ppm'),\n",
       " WindowsPath('../data/graf/img2.ppm'),\n",
       " WindowsPath('../data/graf/img3.ppm'),\n",
       " WindowsPath('../data/graf/img4.ppm'),\n",
       " WindowsPath('../data/graf/img5.ppm'),\n",
       " WindowsPath('../data/graf/img6.ppm'),\n",
       " WindowsPath('../data/leuven/img1.ppm'),\n",
       " WindowsPath('../data/leuven/img2.ppm'),\n",
       " WindowsPath('../data/leuven/img3.ppm'),\n",
       " WindowsPath('../data/leuven/img4.ppm'),\n",
       " WindowsPath('../data/leuven/img5.ppm'),\n",
       " WindowsPath('../data/leuven/img6.ppm'),\n",
       " WindowsPath('../data/trees/img1.ppm'),\n",
       " WindowsPath('../data/trees/img2.ppm'),\n",
       " WindowsPath('../data/trees/img3.ppm'),\n",
       " WindowsPath('../data/trees/img4.ppm'),\n",
       " WindowsPath('../data/trees/img5.ppm'),\n",
       " WindowsPath('../data/trees/img6.ppm'),\n",
       " WindowsPath('../data/ubc/img1.ppm'),\n",
       " WindowsPath('../data/ubc/img2.ppm'),\n",
       " WindowsPath('../data/ubc/img3.ppm'),\n",
       " WindowsPath('../data/ubc/img4.ppm'),\n",
       " WindowsPath('../data/ubc/img5.ppm'),\n",
       " WindowsPath('../data/ubc/img6.ppm'),\n",
       " WindowsPath('../data/wall/img1.ppm'),\n",
       " WindowsPath('../data/wall/img2.ppm'),\n",
       " WindowsPath('../data/wall/img3.ppm'),\n",
       " WindowsPath('../data/wall/img4.ppm'),\n",
       " WindowsPath('../data/wall/img5.ppm'),\n",
       " WindowsPath('../data/wall/img6.ppm')]"
      ]
     },
     "execution_count": 4,
     "metadata": {},
     "output_type": "execute_result"
    }
   ],
   "source": [
    "import cv2\n",
    "from pathlib import Path\n",
    "from sift import pysift\n",
    "\n",
    "data = Path('../data/')\n",
    "subpaths = list([x for x in data.iterdir() if str(x).find('gz') == -1])\n",
    "pics = []\n",
    "for p in subpaths:\n",
    "    pics.extend([x for x in p.iterdir()if str(x).find('ppm') > 1])\n",
    "pics"
   ]
  },
  {
   "cell_type": "code",
   "execution_count": 5,
   "metadata": {},
   "outputs": [
    {
     "data": {
      "text/plain": [
       "'img1.ppm'"
      ]
     },
     "execution_count": 5,
     "metadata": {},
     "output_type": "execute_result"
    }
   ],
   "source": [
    "pics[0].name"
   ]
  },
  {
   "cell_type": "markdown",
   "metadata": {},
   "source": [
    "## 2. Show pictures"
   ]
  },
  {
   "cell_type": "code",
   "execution_count": null,
   "metadata": {},
   "outputs": [],
   "source": [
    "for pic in pics:\n",
    "    image = cv2.imread(str(pic))\n",
    "    cv2.imshow(pic.name, image)    \n",
    "    cv2.waitKey(0)\n",
    "    \n",
    "#     cv2.destroyAllWindows()"
   ]
  },
  {
   "cell_type": "code",
   "execution_count": null,
   "metadata": {},
   "outputs": [],
   "source": [
    "image = cv2.imread(str(pics[0]))\n",
    "cv2.imshow(pics[0].name, image)    \n",
    "cv2.waitKey(0)"
   ]
  },
  {
   "cell_type": "code",
   "execution_count": null,
   "metadata": {},
   "outputs": [],
   "source": [
    "tmp = cv2.imread(str(pics[0]), 0)\n",
    "plt.imshow(tmp, cmap='gray')\n",
    "plt.xticks([]), plt.yticks([])  # to hide tick values on X and Y axis\n",
    "plt.show()"
   ]
  },
  {
   "cell_type": "code",
   "execution_count": null,
   "outputs": [],
   "source": [
    "cv2.destroyAllWindows()"
   ],
   "metadata": {
    "collapsed": false,
    "pycharm": {
     "name": "#%%\n"
    }
   }
  },
  {
   "cell_type": "code",
   "execution_count": null,
   "outputs": [],
   "source": [
    "## sift "
   ],
   "metadata": {
    "collapsed": false,
    "pycharm": {
     "name": "#%%\n"
    }
   }
  },
  {
   "cell_type": "code",
   "execution_count": 19,
   "metadata": {},
   "outputs": [],
   "source": [
    "\n",
    "print(imagepath, imagepath.exists(), imagepath.name)\n",
    "image = cv2.imread(str(imagepath), 0)\n",
    "keypoints, descriptors = pysift.computeKeypointsAndDescriptors(image)\n",
    "\n"
   ]
  },
  {
   "cell_type": "code",
   "execution_count": null,
   "metadata": {},
   "outputs": [],
   "source": [
    "## sift "
   ]
  },
  {
   "cell_type": "code",
   "execution_count": null,
   "metadata": {},
   "outputs": [],
   "source": [
    "\n",
    "print(imagepath, imagepath.exists(), imagepath.name)\n",
    "image = cv2.imread(str(imagepath), 0)\n",
    "keypoints, descriptors = pysift.computeKeypointsAndDescriptors(image)\n",
    "\n"
   ]
  },
  {
   "cell_type": "code",
   "execution_count": null,
   "metadata": {},
   "outputs": [],
   "source": [
    "image."
   ]
  },
  {
   "cell_type": "code",
   "execution_count": null,
   "metadata": {
    "pycharm": {
     "name": "#%%\n"
    }
   },
   "outputs": [],
   "source": [
    "len(keypoints)"
   ]
  },
  {
   "cell_type": "code",
   "execution_count": 32,
   "metadata": {},
   "outputs": [
    {
     "data": {
      "text/plain": [
       "3701"
      ]
     },
     "execution_count": 32,
     "metadata": {},
     "output_type": "execute_result"
    }
   ],
   "source": [
    "len(keypoints)"
   ]
  }
 ],
 "metadata": {
  "kernelspec": {
   "display_name": "sklearn",
   "language": "python",
   "name": "ai"
  },
  "language_info": {
   "codemirror_mode": {
    "name": "ipython",
    "version": 3
   },
   "file_extension": ".py",
   "mimetype": "text/x-python",
   "name": "python",
   "nbconvert_exporter": "python",
   "pygments_lexer": "ipython3",
   "version": "3.7.9"
  }
 },
 "nbformat": 4,
 "nbformat_minor": 4
}